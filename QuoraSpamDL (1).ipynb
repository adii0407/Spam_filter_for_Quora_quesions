{
  "nbformat": 4,
  "nbformat_minor": 0,
  "metadata": {
    "accelerator": "GPU",
    "colab": {
      "name": "QuoraSpamDL.ipynb",
      "provenance": [],
      "collapsed_sections": []
    },
    "kernelspec": {
      "display_name": "Python 3",
      "language": "python",
      "name": "python3"
    },
    "language_info": {
      "codemirror_mode": {
        "name": "ipython",
        "version": 3
      },
      "file_extension": ".py",
      "mimetype": "text/x-python",
      "name": "python",
      "nbconvert_exporter": "python",
      "pygments_lexer": "ipython3",
      "version": "3.8.5"
    }
  },
  "cells": [
    {
      "cell_type": "code",
      "metadata": {
        "id": "ANF9LwDuGdcD"
      },
      "source": [
        ""
      ],
      "execution_count": null,
      "outputs": []
    },
    {
      "cell_type": "code",
      "metadata": {
        "id": "mbEWV83RPru1"
      },
      "source": [
        ""
      ],
      "execution_count": null,
      "outputs": []
    },
    {
      "cell_type": "code",
      "metadata": {
        "id": "8miVB88nPp61"
      },
      "source": [
        ""
      ],
      "execution_count": null,
      "outputs": []
    },
    {
      "cell_type": "code",
      "metadata": {
        "id": "PhDC6PclTXwp"
      },
      "source": [
        "import numpy as np\n",
        "import pandas as pd\n",
        "import matplotlib.pyplot as plt\n",
        "import seaborn as sns\n",
        "import re"
      ],
      "execution_count": 1,
      "outputs": []
    },
    {
      "cell_type": "code",
      "metadata": {
        "colab": {
          "base_uri": "https://localhost:8080/"
        },
        "id": "Y09T1o9aUADx",
        "outputId": "cf3e5a8f-cc08-49d3-891e-5fcc450470bf"
      },
      "source": [
        "from google.colab import drive\n",
        "drive.mount('/content/drive')"
      ],
      "execution_count": 2,
      "outputs": [
        {
          "output_type": "stream",
          "text": [
            "Drive already mounted at /content/drive; to attempt to forcibly remount, call drive.mount(\"/content/drive\", force_remount=True).\n"
          ],
          "name": "stdout"
        }
      ]
    },
    {
      "cell_type": "code",
      "metadata": {
        "id": "1yvK1cIuTXwu"
      },
      "source": [
        "data =pd.read_csv('/content/drive/MyDrive/proton data/train.csv')"
      ],
      "execution_count": 3,
      "outputs": []
    },
    {
      "cell_type": "code",
      "metadata": {
        "colab": {
          "base_uri": "https://localhost:8080/",
          "height": 417
        },
        "id": "Jwfaa-uDTXwv",
        "outputId": "afbdd854-5781-4319-db07-854720a0b6cd"
      },
      "source": [
        "data"
      ],
      "execution_count": 4,
      "outputs": [
        {
          "output_type": "execute_result",
          "data": {
            "text/html": [
              "<div>\n",
              "<style scoped>\n",
              "    .dataframe tbody tr th:only-of-type {\n",
              "        vertical-align: middle;\n",
              "    }\n",
              "\n",
              "    .dataframe tbody tr th {\n",
              "        vertical-align: top;\n",
              "    }\n",
              "\n",
              "    .dataframe thead th {\n",
              "        text-align: right;\n",
              "    }\n",
              "</style>\n",
              "<table border=\"1\" class=\"dataframe\">\n",
              "  <thead>\n",
              "    <tr style=\"text-align: right;\">\n",
              "      <th></th>\n",
              "      <th>qid</th>\n",
              "      <th>question_text</th>\n",
              "      <th>target</th>\n",
              "    </tr>\n",
              "  </thead>\n",
              "  <tbody>\n",
              "    <tr>\n",
              "      <th>0</th>\n",
              "      <td>00002165364db923c7e6</td>\n",
              "      <td>How did Quebec nationalists see their province...</td>\n",
              "      <td>0</td>\n",
              "    </tr>\n",
              "    <tr>\n",
              "      <th>1</th>\n",
              "      <td>000032939017120e6e44</td>\n",
              "      <td>Do you have an adopted dog, how would you enco...</td>\n",
              "      <td>0</td>\n",
              "    </tr>\n",
              "    <tr>\n",
              "      <th>2</th>\n",
              "      <td>0000412ca6e4628ce2cf</td>\n",
              "      <td>Why does velocity affect time? Does velocity a...</td>\n",
              "      <td>0</td>\n",
              "    </tr>\n",
              "    <tr>\n",
              "      <th>3</th>\n",
              "      <td>000042bf85aa498cd78e</td>\n",
              "      <td>How did Otto von Guericke used the Magdeburg h...</td>\n",
              "      <td>0</td>\n",
              "    </tr>\n",
              "    <tr>\n",
              "      <th>4</th>\n",
              "      <td>0000455dfa3e01eae3af</td>\n",
              "      <td>Can I convert montra helicon D to a mountain b...</td>\n",
              "      <td>0</td>\n",
              "    </tr>\n",
              "    <tr>\n",
              "      <th>...</th>\n",
              "      <td>...</td>\n",
              "      <td>...</td>\n",
              "      <td>...</td>\n",
              "    </tr>\n",
              "    <tr>\n",
              "      <th>1306117</th>\n",
              "      <td>ffffcc4e2331aaf1e41e</td>\n",
              "      <td>What other technical skills do you need as a c...</td>\n",
              "      <td>0</td>\n",
              "    </tr>\n",
              "    <tr>\n",
              "      <th>1306118</th>\n",
              "      <td>ffffd431801e5a2f4861</td>\n",
              "      <td>Does MS in ECE have good job prospects in USA ...</td>\n",
              "      <td>0</td>\n",
              "    </tr>\n",
              "    <tr>\n",
              "      <th>1306119</th>\n",
              "      <td>ffffd48fb36b63db010c</td>\n",
              "      <td>Is foam insulation toxic?</td>\n",
              "      <td>0</td>\n",
              "    </tr>\n",
              "    <tr>\n",
              "      <th>1306120</th>\n",
              "      <td>ffffec519fa37cf60c78</td>\n",
              "      <td>How can one start a research project based on ...</td>\n",
              "      <td>0</td>\n",
              "    </tr>\n",
              "    <tr>\n",
              "      <th>1306121</th>\n",
              "      <td>ffffed09fedb5088744a</td>\n",
              "      <td>Who wins in a battle between a Wolverine and a...</td>\n",
              "      <td>0</td>\n",
              "    </tr>\n",
              "  </tbody>\n",
              "</table>\n",
              "<p>1306122 rows × 3 columns</p>\n",
              "</div>"
            ],
            "text/plain": [
              "                          qid  ... target\n",
              "0        00002165364db923c7e6  ...      0\n",
              "1        000032939017120e6e44  ...      0\n",
              "2        0000412ca6e4628ce2cf  ...      0\n",
              "3        000042bf85aa498cd78e  ...      0\n",
              "4        0000455dfa3e01eae3af  ...      0\n",
              "...                       ...  ...    ...\n",
              "1306117  ffffcc4e2331aaf1e41e  ...      0\n",
              "1306118  ffffd431801e5a2f4861  ...      0\n",
              "1306119  ffffd48fb36b63db010c  ...      0\n",
              "1306120  ffffec519fa37cf60c78  ...      0\n",
              "1306121  ffffed09fedb5088744a  ...      0\n",
              "\n",
              "[1306122 rows x 3 columns]"
            ]
          },
          "metadata": {
            "tags": []
          },
          "execution_count": 4
        }
      ]
    },
    {
      "cell_type": "code",
      "metadata": {
        "id": "loZpi315TXwv"
      },
      "source": [
        "\n",
        "from string import punctuation"
      ],
      "execution_count": 5,
      "outputs": []
    },
    {
      "cell_type": "code",
      "metadata": {
        "colab": {
          "base_uri": "https://localhost:8080/",
          "height": 35
        },
        "id": "48D2NOL6TXww",
        "outputId": "79067788-71db-43d9-f951-6a6201bcb03d"
      },
      "source": [
        "data['question_text']=data['question_text'].apply(lambda x:re.sub(\"[\"+punctuation+\"]\",' ',x)) # removes punctuation\n",
        "\n",
        "data['question_text']=data['question_text'].apply(lambda x:re.sub(\"\\d\",' ',x)) #removes digit\n",
        "\n",
        "data['question_text']=data['question_text'].apply(lambda x:re.sub(\"\\s+\",' ',x)) # removes whitespaces\n",
        "\n",
        "data['question_text']=data['question_text'].str.lower() # converts all in to lower\n",
        "\n",
        "data['question_text'][1]"
      ],
      "execution_count": 6,
      "outputs": [
        {
          "output_type": "execute_result",
          "data": {
            "application/vnd.google.colaboratory.intrinsic+json": {
              "type": "string"
            },
            "text/plain": [
              "'do you have an adopted dog how would you encourage people to adopt and not shop '"
            ]
          },
          "metadata": {
            "tags": []
          },
          "execution_count": 6
        }
      ]
    },
    {
      "cell_type": "code",
      "metadata": {
        "colab": {
          "base_uri": "https://localhost:8080/"
        },
        "id": "ETINFYrlTXwx",
        "outputId": "50bb88a4-852a-47e9-d96d-23fcd939d0bd"
      },
      "source": [
        "import nltk\n",
        "from nltk import sent_tokenize, word_tokenize\n",
        "from nltk.corpus import stopwords\n",
        "from nltk.stem import WordNetLemmatizer\n",
        "import nltk\n",
        "nltk.download('punkt')\n",
        "nltk.download('stopwords')\n",
        "nltk.download('wordnet')\n"
      ],
      "execution_count": 7,
      "outputs": [
        {
          "output_type": "stream",
          "text": [
            "[nltk_data] Downloading package punkt to /root/nltk_data...\n",
            "[nltk_data]   Package punkt is already up-to-date!\n",
            "[nltk_data] Downloading package stopwords to /root/nltk_data...\n",
            "[nltk_data]   Package stopwords is already up-to-date!\n",
            "[nltk_data] Downloading package wordnet to /root/nltk_data...\n",
            "[nltk_data]   Package wordnet is already up-to-date!\n"
          ],
          "name": "stdout"
        },
        {
          "output_type": "execute_result",
          "data": {
            "text/plain": [
              "True"
            ]
          },
          "metadata": {
            "tags": []
          },
          "execution_count": 7
        }
      ]
    },
    {
      "cell_type": "code",
      "metadata": {
        "id": "mWf5yc44TXwy"
      },
      "source": [
        "stop_words = set(stopwords.words('english')) \n",
        "len(stop_words)\n",
        "data['question_text'] = data['question_text'].apply(lambda x: ' '.join(term for term in x.split() if term not in stop_words))"
      ],
      "execution_count": 8,
      "outputs": []
    },
    {
      "cell_type": "code",
      "metadata": {
        "colab": {
          "base_uri": "https://localhost:8080/",
          "height": 35
        },
        "id": "BGM-NuibTXw0",
        "outputId": "7aa2ae5a-95bb-4b37-b2b9-44bd77c2e4c3"
      },
      "source": [
        "data['question_text'][1]"
      ],
      "execution_count": 9,
      "outputs": [
        {
          "output_type": "execute_result",
          "data": {
            "application/vnd.google.colaboratory.intrinsic+json": {
              "type": "string"
            },
            "text/plain": [
              "'adopted dog would encourage people adopt shop'"
            ]
          },
          "metadata": {
            "tags": []
          },
          "execution_count": 9
        }
      ]
    },
    {
      "cell_type": "code",
      "metadata": {
        "id": "cVRAIA5tTXw1"
      },
      "source": [
        "lemmatizer = WordNetLemmatizer()\n",
        "data['question_text'] = data['question_text'].apply(lambda x: ' '.join(lemmatizer.lemmatize(term) for term in x.split()))\n"
      ],
      "execution_count": 10,
      "outputs": []
    },
    {
      "cell_type": "code",
      "metadata": {
        "id": "Cxt0tzF6TXw1"
      },
      "source": [
        "data= data.drop('qid', axis=1 )"
      ],
      "execution_count": 11,
      "outputs": []
    },
    {
      "cell_type": "code",
      "metadata": {
        "colab": {
          "base_uri": "https://localhost:8080/",
          "height": 203
        },
        "id": "ZQsikCdZTXw1",
        "outputId": "34cdfc26-db9b-4905-c546-e9def0f78c96"
      },
      "source": [
        "data.head()"
      ],
      "execution_count": 12,
      "outputs": [
        {
          "output_type": "execute_result",
          "data": {
            "text/html": [
              "<div>\n",
              "<style scoped>\n",
              "    .dataframe tbody tr th:only-of-type {\n",
              "        vertical-align: middle;\n",
              "    }\n",
              "\n",
              "    .dataframe tbody tr th {\n",
              "        vertical-align: top;\n",
              "    }\n",
              "\n",
              "    .dataframe thead th {\n",
              "        text-align: right;\n",
              "    }\n",
              "</style>\n",
              "<table border=\"1\" class=\"dataframe\">\n",
              "  <thead>\n",
              "    <tr style=\"text-align: right;\">\n",
              "      <th></th>\n",
              "      <th>question_text</th>\n",
              "      <th>target</th>\n",
              "    </tr>\n",
              "  </thead>\n",
              "  <tbody>\n",
              "    <tr>\n",
              "      <th>0</th>\n",
              "      <td>quebec nationalist see province nation</td>\n",
              "      <td>0</td>\n",
              "    </tr>\n",
              "    <tr>\n",
              "      <th>1</th>\n",
              "      <td>adopted dog would encourage people adopt shop</td>\n",
              "      <td>0</td>\n",
              "    </tr>\n",
              "    <tr>\n",
              "      <th>2</th>\n",
              "      <td>velocity affect time velocity affect space geo...</td>\n",
              "      <td>0</td>\n",
              "    </tr>\n",
              "    <tr>\n",
              "      <th>3</th>\n",
              "      <td>otto von guericke used magdeburg hemisphere</td>\n",
              "      <td>0</td>\n",
              "    </tr>\n",
              "    <tr>\n",
              "      <th>4</th>\n",
              "      <td>convert montra helicon mountain bike changing ...</td>\n",
              "      <td>0</td>\n",
              "    </tr>\n",
              "  </tbody>\n",
              "</table>\n",
              "</div>"
            ],
            "text/plain": [
              "                                       question_text  target\n",
              "0             quebec nationalist see province nation       0\n",
              "1      adopted dog would encourage people adopt shop       0\n",
              "2  velocity affect time velocity affect space geo...       0\n",
              "3        otto von guericke used magdeburg hemisphere       0\n",
              "4  convert montra helicon mountain bike changing ...       0"
            ]
          },
          "metadata": {
            "tags": []
          },
          "execution_count": 12
        }
      ]
    },
    {
      "cell_type": "code",
      "metadata": {
        "colab": {
          "base_uri": "https://localhost:8080/"
        },
        "id": "ZTu3g5qFNTQw",
        "outputId": "1d208e66-12cf-41f8-b6d2-6fa4db8d23db"
      },
      "source": [
        "#displaying the categorical values\n",
        "\n",
        "data['target'].value_counts()"
      ],
      "execution_count": 13,
      "outputs": [
        {
          "output_type": "execute_result",
          "data": {
            "text/plain": [
              "0    1225312\n",
              "1      80810\n",
              "Name: target, dtype: int64"
            ]
          },
          "metadata": {
            "tags": []
          },
          "execution_count": 13
        }
      ]
    },
    {
      "cell_type": "code",
      "metadata": {
        "colab": {
          "base_uri": "https://localhost:8080/"
        },
        "id": "6wAV5wGjNTZ6",
        "outputId": "8f52f2e6-da32-4277-ea0f-4b134c26665f"
      },
      "source": [
        "#conversion to list and then displaying the list\n",
        "text = data['question_text'].tolist()\n",
        "text[:3]"
      ],
      "execution_count": 14,
      "outputs": [
        {
          "output_type": "execute_result",
          "data": {
            "text/plain": [
              "['quebec nationalist see province nation',\n",
              " 'adopted dog would encourage people adopt shop',\n",
              " 'velocity affect time velocity affect space geometry']"
            ]
          },
          "metadata": {
            "tags": []
          },
          "execution_count": 14
        }
      ]
    },
    {
      "cell_type": "code",
      "metadata": {
        "id": "t56oK_fhNTfi"
      },
      "source": [
        "#storing the values of sentiment column to variable y\n",
        "\n",
        "y = data['target']"
      ],
      "execution_count": 15,
      "outputs": []
    },
    {
      "cell_type": "code",
      "metadata": {
        "id": "KQwAmpk4OK4L"
      },
      "source": [
        "from keras.preprocessing import sequence\n",
        "from nltk import word_tokenize\n",
        "from keras.preprocessing.text import Tokenizer"
      ],
      "execution_count": 16,
      "outputs": []
    },
    {
      "cell_type": "code",
      "metadata": {
        "id": "HiPAbaiFNTjU"
      },
      "source": [
        "#tokenizer to read all the words present in our corpus\n",
        "\n",
        "token = Tokenizer()\n",
        "token.fit_on_texts(text)"
      ],
      "execution_count": 17,
      "outputs": []
    },
    {
      "cell_type": "code",
      "metadata": {
        "colab": {
          "base_uri": "https://localhost:8080/"
        },
        "id": "GhFN1ZDGNTm_",
        "outputId": "0363bc9e-64c1-44c5-81cd-c239c1d34632"
      },
      "source": [
        "#declaring the vocab_size\n",
        "\n",
        "vocab_size  = len(token.word_index) + 1\n",
        "vocab_size"
      ],
      "execution_count": 18,
      "outputs": [
        {
          "output_type": "execute_result",
          "data": {
            "text/plain": [
              "177755"
            ]
          },
          "metadata": {
            "tags": []
          },
          "execution_count": 18
        }
      ]
    },
    {
      "cell_type": "code",
      "metadata": {
        "id": "iZPhCc3lNTqS"
      },
      "source": [
        "#conversion to numerical formats\n",
        "\n",
        "encoded_text = token.texts_to_sequences(text)"
      ],
      "execution_count": 19,
      "outputs": []
    },
    {
      "cell_type": "code",
      "metadata": {
        "colab": {
          "base_uri": "https://localhost:8080/"
        },
        "id": "2CySCsivNTtn",
        "outputId": "6dfcba96-9c13-4c7b-deb1-7b29dae3a41e"
      },
      "source": [
        "#printing the values of encoded texts of top 3 rows\n",
        "\n",
        "print(encoded_text[:3])"
      ],
      "execution_count": 20,
      "outputs": [
        {
          "output_type": "stream",
          "text": [
            "[[5850, 4036, 81, 4234, 568], [3462, 201, 3, 3279, 4, 2793, 1265], [1790, 247, 12, 1790, 247, 338, 4824]]\n"
          ],
          "name": "stdout"
        }
      ]
    },
    {
      "cell_type": "code",
      "metadata": {
        "id": "MyQ8pK3dPUaM"
      },
      "source": [
        "from tensorflow.keras.preprocessing.sequence import pad_sequences"
      ],
      "execution_count": 21,
      "outputs": []
    },
    {
      "cell_type": "code",
      "metadata": {
        "id": "YImW5URCNTwd"
      },
      "source": [
        "#'max_length' = 120 means we are considering max 120 words or token only\n",
        "#padding='post' means that we padding post the sentence(keeping values 0 if the tokens are not there)\n",
        "\n",
        "max_length = 50\n",
        "X = pad_sequences(encoded_text, maxlen=max_length, padding='post')"
      ],
      "execution_count": 22,
      "outputs": []
    },
    {
      "cell_type": "code",
      "metadata": {
        "colab": {
          "base_uri": "https://localhost:8080/"
        },
        "id": "bRT9dsB8Pg5D",
        "outputId": "1d15ae59-ed68-472c-d87b-29a40a802302"
      },
      "source": [
        "X.shape"
      ],
      "execution_count": 23,
      "outputs": [
        {
          "output_type": "execute_result",
          "data": {
            "text/plain": [
              "(1306122, 50)"
            ]
          },
          "metadata": {
            "tags": []
          },
          "execution_count": 23
        }
      ]
    },
    {
      "cell_type": "code",
      "metadata": {
        "id": "q6e3aSTdPto4"
      },
      "source": [
        ""
      ],
      "execution_count": 23,
      "outputs": []
    },
    {
      "cell_type": "code",
      "metadata": {
        "colab": {
          "base_uri": "https://localhost:8080/"
        },
        "id": "z0lw9PQRQqsf",
        "outputId": "30a301fb-921c-41a1-c4af-aa91b021540f"
      },
      "source": [
        "!wget https://nlp.stanford.edu/data/glove.42B.300d.zip\n",
        "!unzip -q glove.42B.300d.zip\n"
      ],
      "execution_count": 24,
      "outputs": [
        {
          "output_type": "stream",
          "text": [
            "--2021-08-13 11:54:28--  https://nlp.stanford.edu/data/glove.42B.300d.zip\n",
            "Resolving nlp.stanford.edu (nlp.stanford.edu)... 171.64.67.140\n",
            "Connecting to nlp.stanford.edu (nlp.stanford.edu)|171.64.67.140|:443... connected.\n",
            "HTTP request sent, awaiting response... 301 Moved Permanently\n",
            "Location: http://downloads.cs.stanford.edu/nlp/data/glove.42B.300d.zip [following]\n",
            "--2021-08-13 11:54:28--  http://downloads.cs.stanford.edu/nlp/data/glove.42B.300d.zip\n",
            "Resolving downloads.cs.stanford.edu (downloads.cs.stanford.edu)... 171.64.64.22\n",
            "Connecting to downloads.cs.stanford.edu (downloads.cs.stanford.edu)|171.64.64.22|:80... connected.\n",
            "HTTP request sent, awaiting response... 200 OK\n",
            "Length: 1877800501 (1.7G) [application/zip]\n",
            "Saving to: ‘glove.42B.300d.zip’\n",
            "\n",
            "glove.42B.300d.zip  100%[===================>]   1.75G  5.16MB/s    in 6m 1s   \n",
            "\n",
            "2021-08-13 12:00:29 (4.97 MB/s) - ‘glove.42B.300d.zip’ saved [1877800501/1877800501]\n",
            "\n",
            "replace glove.42B.300d.txt? [y]es, [n]o, [A]ll, [N]one, [r]ename: [y]es\n",
            "error:  invalid response [[y]es]\n",
            "replace glove.42B.300d.txt? [y]es, [n]o, [A]ll, [N]one, [r]ename: y\n"
          ],
          "name": "stdout"
        }
      ]
    },
    {
      "cell_type": "code",
      "metadata": {
        "id": "9zkjyp1GQq2l"
      },
      "source": [
        "!rm glove.42B.300d.zip\n"
      ],
      "execution_count": 25,
      "outputs": []
    },
    {
      "cell_type": "code",
      "metadata": {
        "colab": {
          "base_uri": "https://localhost:8080/"
        },
        "id": "VeI7VyQ4Qq-y",
        "outputId": "801732d4-269b-4fd1-a145-72f297e23712"
      },
      "source": [
        "y"
      ],
      "execution_count": 26,
      "outputs": [
        {
          "output_type": "execute_result",
          "data": {
            "text/plain": [
              "0          0\n",
              "1          0\n",
              "2          0\n",
              "3          0\n",
              "4          0\n",
              "          ..\n",
              "1306117    0\n",
              "1306118    0\n",
              "1306119    0\n",
              "1306120    0\n",
              "1306121    0\n",
              "Name: target, Length: 1306122, dtype: int64"
            ]
          },
          "metadata": {
            "tags": []
          },
          "execution_count": 26
        }
      ]
    },
    {
      "cell_type": "code",
      "metadata": {
        "id": "6PHYSbcrQrQ-"
      },
      "source": [
        ""
      ],
      "execution_count": 26,
      "outputs": []
    },
    {
      "cell_type": "code",
      "metadata": {
        "id": "esJby_VSQrY2"
      },
      "source": [
        ""
      ],
      "execution_count": 26,
      "outputs": []
    },
    {
      "cell_type": "code",
      "metadata": {
        "id": "V5GtuhA9Pv5r"
      },
      "source": [
        "#declaring dict to store all the words as keys in the dictionary and their vector representations as values\n",
        "\n",
        "glove_vectors = dict()"
      ],
      "execution_count": 28,
      "outputs": []
    },
    {
      "cell_type": "code",
      "metadata": {
        "id": "1w1Hj340PwFU"
      },
      "source": [
        "file = open('glove.42B.300d.txt', encoding='utf-8')\n",
        "\n",
        "for line in file:\n",
        "    values = line.split()\n",
        "    word = values[0]\n",
        "    #storing the word in the variable\n",
        "    vectors = np.asarray(values[1: ])\n",
        "    #storing the vector representation of the respective word in the dictionary\n",
        "    glove_vectors[word] = vectors\n",
        "file.close()"
      ],
      "execution_count": 29,
      "outputs": []
    },
    {
      "cell_type": "code",
      "metadata": {
        "colab": {
          "base_uri": "https://localhost:8080/"
        },
        "id": "XwnQX9-TPwaG",
        "outputId": "d4b4c018-1384-48d8-a422-2eb984768124"
      },
      "source": [
        "#printing length of glove vectors\n",
        "len(glove_vectors)"
      ],
      "execution_count": 30,
      "outputs": [
        {
          "output_type": "execute_result",
          "data": {
            "text/plain": [
              "164999"
            ]
          },
          "metadata": {
            "tags": []
          },
          "execution_count": 30
        }
      ]
    },
    {
      "cell_type": "code",
      "metadata": {
        "colab": {
          "base_uri": "https://localhost:8080/"
        },
        "id": "4FSbOTjkPwjk",
        "outputId": "fc69d135-f2f7-4eae-c8e9-244c8ced6fd2"
      },
      "source": [
        "keys = glove_vectors.keys()\n",
        "len(keys)\n"
      ],
      "execution_count": 31,
      "outputs": [
        {
          "output_type": "execute_result",
          "data": {
            "text/plain": [
              "164999"
            ]
          },
          "metadata": {
            "tags": []
          },
          "execution_count": 31
        }
      ]
    },
    {
      "cell_type": "markdown",
      "metadata": {
        "id": "i6oqKF-vbJag"
      },
      "source": [
        "We have total 1193514 key values pairs in our dictionary of glove vectors"
      ]
    },
    {
      "cell_type": "code",
      "metadata": {
        "colab": {
          "base_uri": "https://localhost:8080/"
        },
        "id": "zznZE2LTPwsc",
        "outputId": "98b37822-8a94-4085-d6fd-7fa6f3a8d592"
      },
      "source": [
        "glove_vectors.get('you').shape"
      ],
      "execution_count": 32,
      "outputs": [
        {
          "output_type": "execute_result",
          "data": {
            "text/plain": [
              "(300,)"
            ]
          },
          "metadata": {
            "tags": []
          },
          "execution_count": 32
        }
      ]
    },
    {
      "cell_type": "markdown",
      "metadata": {
        "id": "Z_HtWHcjbR5N"
      },
      "source": [
        "2. Since we have taken the glove vectors of 300 dimensions, that’s why the word ‘you’ is having 300 values."
      ]
    },
    {
      "cell_type": "code",
      "metadata": {
        "id": "sIftXg1NPw0z"
      },
      "source": [
        "word_vector_matrix = np.zeros((vocab_size, 300))\n",
        "\n",
        "for word, index in token.word_index.items():\n",
        "    vector = glove_vectors.get(word)\n",
        "    if vector is not None:\n",
        "        word_vector_matrix[index] = vector\n",
        "   "
      ],
      "execution_count": 35,
      "outputs": []
    },
    {
      "cell_type": "code",
      "metadata": {
        "id": "axRsTHGtPw9T"
      },
      "source": [
        "from sklearn.model_selection import train_test_split\n"
      ],
      "execution_count": 37,
      "outputs": []
    },
    {
      "cell_type": "code",
      "metadata": {
        "id": "6IR7_NvdPxGD"
      },
      "source": [
        "X_train, X_test, y_train, y_test = train_test_split(X, y, random_state = 42, test_size = 0.2, stratify = y)"
      ],
      "execution_count": 38,
      "outputs": []
    },
    {
      "cell_type": "code",
      "metadata": {
        "id": "I9vNUhd9hlNm"
      },
      "source": [
        "from keras.preprocessing import sequence\n",
        "from keras.layers import LSTM, Activation, Dense, Dropout, Input, Embedding, BatchNormalization, GRU ,concatenate\n",
        "from keras.models import Model\n",
        "from sklearn.utils import class_weight\n",
        "from keras.models import Sequential\n",
        "from tensorflow.keras.layers import Conv1D, MaxPooling1D, GlobalMaxPooling1D \n",
        "from tensorflow.keras.optimizers import Adam\n",
        "from keras.callbacks import EarlyStopping\n",
        "from keras import models\n",
        "from keras.models import load_model\n",
        "from sklearn.metrics import roc_auc_score, accuracy_score"
      ],
      "execution_count": 46,
      "outputs": []
    },
    {
      "cell_type": "code",
      "metadata": {
        "colab": {
          "base_uri": "https://localhost:8080/"
        },
        "id": "v749fFyLPxOf",
        "outputId": "27b23774-944c-4ff1-9afd-b5fa58f4340d"
      },
      "source": [
        "vec_size = 300\n",
        "\n",
        "model = Sequential()\n",
        "model.add(Embedding(vocab_size, vec_size, input_length=max_length, weights = [word_vector_matrix], trainable = False))\n",
        "\n",
        "model.add(Conv1D(64, 8, activation = 'relu'))\n",
        "#here 64 is number of filters and 8 is size of filters\n",
        "model.add(MaxPooling1D(2))\n",
        "model.add(Dropout(0.5))\n",
        "\n",
        "model.add(Dense(32, activation='relu'))\n",
        "model.add(Dropout(0.5))\n",
        "\n",
        "model.add(Dense(16, activation='relu'))\n",
        " \n",
        "model.add(GlobalMaxPooling1D())\n",
        "\n",
        "model.add(Dense(1, activation='sigmoid'))\n",
        "\n",
        "model.compile(optimizer=Adam(learning_rate = 0.001), loss = 'binary_crossentropy', metrics = ['accuracy'])\n",
        "\n",
        "model.fit(X_train, y_train, epochs = 10, validation_data = (X_test, y_test))"
      ],
      "execution_count": 49,
      "outputs": [
        {
          "output_type": "stream",
          "text": [
            "Epoch 1/10\n",
            "32654/32654 [==============================] - 286s 9ms/step - loss: 0.1535 - accuracy: 0.9431 - val_loss: 0.1761 - val_accuracy: 0.9494\n",
            "Epoch 2/10\n",
            "32654/32654 [==============================] - 284s 9ms/step - loss: 0.1357 - accuracy: 0.9467 - val_loss: 0.1534 - val_accuracy: 0.9399\n",
            "Epoch 3/10\n",
            "32654/32654 [==============================] - 284s 9ms/step - loss: 0.1324 - accuracy: 0.9480 - val_loss: 0.1514 - val_accuracy: 0.9427\n",
            "Epoch 4/10\n",
            "32654/32654 [==============================] - 284s 9ms/step - loss: 0.1300 - accuracy: 0.9487 - val_loss: 0.1414 - val_accuracy: 0.9459\n",
            "Epoch 5/10\n",
            "32654/32654 [==============================] - 287s 9ms/step - loss: 0.1289 - accuracy: 0.9491 - val_loss: 0.1449 - val_accuracy: 0.9404\n",
            "Epoch 6/10\n",
            "32654/32654 [==============================] - 289s 9ms/step - loss: 0.1295 - accuracy: 0.9492 - val_loss: 0.1495 - val_accuracy: 0.9384\n",
            "Epoch 7/10\n",
            "32654/32654 [==============================] - 289s 9ms/step - loss: 0.1282 - accuracy: 0.9499 - val_loss: 0.1449 - val_accuracy: 0.9385\n",
            "Epoch 8/10\n",
            "32654/32654 [==============================] - 290s 9ms/step - loss: 0.1284 - accuracy: 0.9499 - val_loss: 0.1487 - val_accuracy: 0.9382\n",
            "Epoch 9/10\n",
            "32654/32654 [==============================] - 291s 9ms/step - loss: 0.1266 - accuracy: 0.9504 - val_loss: 0.1480 - val_accuracy: 0.9383\n",
            "Epoch 10/10\n",
            "32654/32654 [==============================] - 289s 9ms/step - loss: 0.1258 - accuracy: 0.9506 - val_loss: 0.1385 - val_accuracy: 0.9399\n"
          ],
          "name": "stdout"
        },
        {
          "output_type": "execute_result",
          "data": {
            "text/plain": [
              "<keras.callbacks.History at 0x7f6e2ef44750>"
            ]
          },
          "metadata": {
            "tags": []
          },
          "execution_count": 49
        }
      ]
    },
    {
      "cell_type": "code",
      "metadata": {
        "id": "fHXb9wmBGlo6",
        "outputId": "9872b72c-0e83-41b5-f3b7-489887b09c48",
        "colab": {
          "base_uri": "https://localhost:8080/"
        }
      },
      "source": [
        "model.summary()"
      ],
      "execution_count": 53,
      "outputs": [
        {
          "output_type": "stream",
          "text": [
            "Model: \"sequential_5\"\n",
            "_________________________________________________________________\n",
            "Layer (type)                 Output Shape              Param #   \n",
            "=================================================================\n",
            "embedding_5 (Embedding)      (None, 50, 300)           53326500  \n",
            "_________________________________________________________________\n",
            "module_wrapper_9 (ModuleWrap (None, 43, 64)            153664    \n",
            "_________________________________________________________________\n",
            "module_wrapper_10 (ModuleWra (None, 21, 64)            0         \n",
            "_________________________________________________________________\n",
            "dropout_6 (Dropout)          (None, 21, 64)            0         \n",
            "_________________________________________________________________\n",
            "dense_9 (Dense)              (None, 21, 32)            2080      \n",
            "_________________________________________________________________\n",
            "dropout_7 (Dropout)          (None, 21, 32)            0         \n",
            "_________________________________________________________________\n",
            "dense_10 (Dense)             (None, 21, 16)            528       \n",
            "_________________________________________________________________\n",
            "module_wrapper_11 (ModuleWra (None, 16)                0         \n",
            "_________________________________________________________________\n",
            "dense_11 (Dense)             (None, 1)                 17        \n",
            "=================================================================\n",
            "Total params: 53,482,789\n",
            "Trainable params: 156,289\n",
            "Non-trainable params: 53,326,500\n",
            "_________________________________________________________________\n"
          ],
          "name": "stdout"
        }
      ]
    },
    {
      "cell_type": "code",
      "metadata": {
        "id": "wTSBLl33Gujv"
      },
      "source": [
        ""
      ],
      "execution_count": null,
      "outputs": []
    },
    {
      "cell_type": "code",
      "metadata": {
        "id": "hPna1t-8Gu61"
      },
      "source": [
        "y_pred = model.predict(X_test)"
      ],
      "execution_count": 58,
      "outputs": []
    },
    {
      "cell_type": "code",
      "metadata": {
        "id": "RgQr58-1Gvnx"
      },
      "source": [
        "from  sklearn.metrics import roc_auc_score\n",
        "auc = roc_auc_score(y_test,y_pred)"
      ],
      "execution_count": 59,
      "outputs": []
    },
    {
      "cell_type": "code",
      "metadata": {
        "id": "oAOy70ATHLUr",
        "outputId": "2ca1bd6b-cc60-4ab9-e731-0b00ff7b73c0",
        "colab": {
          "base_uri": "https://localhost:8080/"
        }
      },
      "source": [
        "auc"
      ],
      "execution_count": 60,
      "outputs": [
        {
          "output_type": "execute_result",
          "data": {
            "text/plain": [
              "0.9386018041845117"
            ]
          },
          "metadata": {
            "tags": []
          },
          "execution_count": 60
        }
      ]
    },
    {
      "cell_type": "code",
      "metadata": {
        "id": "ZZYxZm4_HLnx"
      },
      "source": [
        ""
      ],
      "execution_count": null,
      "outputs": []
    },
    {
      "cell_type": "code",
      "metadata": {
        "id": "ZsWF_FC7HL_T"
      },
      "source": [
        ""
      ],
      "execution_count": null,
      "outputs": []
    },
    {
      "cell_type": "code",
      "metadata": {
        "id": "LdU6d5_hHMS5"
      },
      "source": [
        ""
      ],
      "execution_count": null,
      "outputs": []
    },
    {
      "cell_type": "code",
      "metadata": {
        "id": "T_atJTKpHMma"
      },
      "source": [
        ""
      ],
      "execution_count": null,
      "outputs": []
    },
    {
      "cell_type": "code",
      "metadata": {
        "id": "tsZqac5KHM2d"
      },
      "source": [
        ""
      ],
      "execution_count": null,
      "outputs": []
    },
    {
      "cell_type": "code",
      "metadata": {
        "id": "R3dPxKg95LGR"
      },
      "source": [
        "b"
      ],
      "execution_count": null,
      "outputs": []
    },
    {
      "cell_type": "code",
      "metadata": {
        "id": "O3gyXIfEPt6P"
      },
      "source": [
        ""
      ],
      "execution_count": null,
      "outputs": []
    },
    {
      "cell_type": "code",
      "metadata": {
        "id": "yv3_xi7IGgAz"
      },
      "source": [
        ""
      ],
      "execution_count": null,
      "outputs": []
    },
    {
      "cell_type": "code",
      "metadata": {
        "id": "MumTwqXGGjTX"
      },
      "source": [
        ""
      ],
      "execution_count": null,
      "outputs": []
    },
    {
      "cell_type": "code",
      "metadata": {
        "id": "XeQbRbWzGh8f"
      },
      "source": [
        ""
      ],
      "execution_count": null,
      "outputs": []
    },
    {
      "cell_type": "code",
      "metadata": {
        "id": "1WNvR6WHGicK"
      },
      "source": [
        ""
      ],
      "execution_count": null,
      "outputs": []
    },
    {
      "cell_type": "code",
      "metadata": {
        "id": "yr_IkAaqGi15"
      },
      "source": [
        ""
      ],
      "execution_count": null,
      "outputs": []
    },
    {
      "cell_type": "code",
      "metadata": {
        "id": "z0w1WGl5HEn5"
      },
      "source": [
        ""
      ],
      "execution_count": null,
      "outputs": []
    }
  ]
}